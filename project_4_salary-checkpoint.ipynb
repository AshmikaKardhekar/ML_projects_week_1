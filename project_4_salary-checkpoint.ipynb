{
 "cells": [
  {
   "cell_type": "code",
   "execution_count": 254,
   "metadata": {},
   "outputs": [],
   "source": [
    "import pandas as pd\n",
    "import numpy as np\n",
    "import matplotlib.pyplot as plt\n",
    "import seaborn as sns\n",
    "import warnings\n",
    "warnings.filterwarnings('ignore')"
   ]
  },
  {
   "cell_type": "code",
   "execution_count": 255,
   "metadata": {},
   "outputs": [],
   "source": [
    "#get data\n",
    "sal_data=pd.read_csv('Downloads/Employee_1000_Records/1000 Records.csv')"
   ]
  },
  {
   "cell_type": "code",
   "execution_count": 256,
   "metadata": {},
   "outputs": [
    {
     "data": {
      "text/html": [
       "<div>\n",
       "<style scoped>\n",
       "    .dataframe tbody tr th:only-of-type {\n",
       "        vertical-align: middle;\n",
       "    }\n",
       "\n",
       "    .dataframe tbody tr th {\n",
       "        vertical-align: top;\n",
       "    }\n",
       "\n",
       "    .dataframe thead th {\n",
       "        text-align: right;\n",
       "    }\n",
       "</style>\n",
       "<table border=\"1\" class=\"dataframe\">\n",
       "  <thead>\n",
       "    <tr style=\"text-align: right;\">\n",
       "      <th></th>\n",
       "      <th>Emp ID</th>\n",
       "      <th>Name Prefix</th>\n",
       "      <th>First Name</th>\n",
       "      <th>Middle Initial</th>\n",
       "      <th>Last Name</th>\n",
       "      <th>Gender</th>\n",
       "      <th>E Mail</th>\n",
       "      <th>Father's Name</th>\n",
       "      <th>Mother's Name</th>\n",
       "      <th>Mother's Maiden Name</th>\n",
       "      <th>...</th>\n",
       "      <th>SSN</th>\n",
       "      <th>Phone No.</th>\n",
       "      <th>Place Name</th>\n",
       "      <th>Country</th>\n",
       "      <th>City</th>\n",
       "      <th>State</th>\n",
       "      <th>Zip</th>\n",
       "      <th>Region</th>\n",
       "      <th>User Name</th>\n",
       "      <th>Password</th>\n",
       "    </tr>\n",
       "  </thead>\n",
       "  <tbody>\n",
       "    <tr>\n",
       "      <th>0</th>\n",
       "      <td>850297</td>\n",
       "      <td>Ms.</td>\n",
       "      <td>Shawna</td>\n",
       "      <td>W</td>\n",
       "      <td>Buck</td>\n",
       "      <td>F</td>\n",
       "      <td>shawna.buck@gmail.com</td>\n",
       "      <td>Rosario Buck</td>\n",
       "      <td>Keisha Buck</td>\n",
       "      <td>Hendricks</td>\n",
       "      <td>...</td>\n",
       "      <td>222-11-7603</td>\n",
       "      <td>702-771-7149</td>\n",
       "      <td>Las Vegas</td>\n",
       "      <td>Clark</td>\n",
       "      <td>Las Vegas</td>\n",
       "      <td>NV</td>\n",
       "      <td>89128</td>\n",
       "      <td>West</td>\n",
       "      <td>swbuck</td>\n",
       "      <td>ja8?k3BTF^]o@&lt;&amp;</td>\n",
       "    </tr>\n",
       "    <tr>\n",
       "      <th>1</th>\n",
       "      <td>304721</td>\n",
       "      <td>Mr.</td>\n",
       "      <td>Nathaniel</td>\n",
       "      <td>Z</td>\n",
       "      <td>Burke</td>\n",
       "      <td>M</td>\n",
       "      <td>nathaniel.burke@walmart.com</td>\n",
       "      <td>Derrick Burke</td>\n",
       "      <td>Phoebe Burke</td>\n",
       "      <td>Pugh</td>\n",
       "      <td>...</td>\n",
       "      <td>550-99-9897</td>\n",
       "      <td>231-765-6923</td>\n",
       "      <td>Irons</td>\n",
       "      <td>Lake</td>\n",
       "      <td>Irons</td>\n",
       "      <td>MI</td>\n",
       "      <td>49644</td>\n",
       "      <td>Midwest</td>\n",
       "      <td>nzburke</td>\n",
       "      <td>tPA@4Wh9Ja$+Ln</td>\n",
       "    </tr>\n",
       "    <tr>\n",
       "      <th>2</th>\n",
       "      <td>412317</td>\n",
       "      <td>Drs.</td>\n",
       "      <td>Elisabeth</td>\n",
       "      <td>W</td>\n",
       "      <td>Foster</td>\n",
       "      <td>F</td>\n",
       "      <td>elisabeth.foster@gmail.com</td>\n",
       "      <td>Irwin Foster</td>\n",
       "      <td>Janie Foster</td>\n",
       "      <td>Delaney</td>\n",
       "      <td>...</td>\n",
       "      <td>215-91-0004</td>\n",
       "      <td>270-749-4774</td>\n",
       "      <td>Lexington</td>\n",
       "      <td>Fayette</td>\n",
       "      <td>Lexington</td>\n",
       "      <td>KY</td>\n",
       "      <td>40501</td>\n",
       "      <td>South</td>\n",
       "      <td>ewfoster</td>\n",
       "      <td>5D.B4IGNkWJfG&lt;~</td>\n",
       "    </tr>\n",
       "    <tr>\n",
       "      <th>3</th>\n",
       "      <td>621375</td>\n",
       "      <td>Mrs.</td>\n",
       "      <td>Briana</td>\n",
       "      <td>C</td>\n",
       "      <td>Lancaster</td>\n",
       "      <td>F</td>\n",
       "      <td>briana.lancaster@yahoo.com</td>\n",
       "      <td>Jeffrey Lancaster</td>\n",
       "      <td>Shelby Lancaster</td>\n",
       "      <td>Weiss</td>\n",
       "      <td>...</td>\n",
       "      <td>534-71-1053</td>\n",
       "      <td>219-623-8216</td>\n",
       "      <td>Munster</td>\n",
       "      <td>Lake</td>\n",
       "      <td>Munster</td>\n",
       "      <td>IN</td>\n",
       "      <td>46321</td>\n",
       "      <td>Midwest</td>\n",
       "      <td>bclancaster</td>\n",
       "      <td>I%?JDM;pW</td>\n",
       "    </tr>\n",
       "    <tr>\n",
       "      <th>4</th>\n",
       "      <td>787549</td>\n",
       "      <td>Hon.</td>\n",
       "      <td>Estella</td>\n",
       "      <td>L</td>\n",
       "      <td>Potter</td>\n",
       "      <td>F</td>\n",
       "      <td>estella.potter@gmail.com</td>\n",
       "      <td>Booker Potter</td>\n",
       "      <td>Katelyn Potter</td>\n",
       "      <td>Pate</td>\n",
       "      <td>...</td>\n",
       "      <td>644-29-6396</td>\n",
       "      <td>907-677-8486</td>\n",
       "      <td>Fairbanks</td>\n",
       "      <td>Fairbanks North Star</td>\n",
       "      <td>Fairbanks</td>\n",
       "      <td>AK</td>\n",
       "      <td>99709</td>\n",
       "      <td>West</td>\n",
       "      <td>elpotter</td>\n",
       "      <td>j4jkEXfC&amp;Rh</td>\n",
       "    </tr>\n",
       "  </tbody>\n",
       "</table>\n",
       "<p>5 rows × 37 columns</p>\n",
       "</div>"
      ],
      "text/plain": [
       "   Emp ID Name Prefix First Name Middle Initial  Last Name Gender  \\\n",
       "0  850297         Ms.     Shawna              W       Buck      F   \n",
       "1  304721         Mr.  Nathaniel              Z      Burke      M   \n",
       "2  412317        Drs.  Elisabeth              W     Foster      F   \n",
       "3  621375        Mrs.     Briana              C  Lancaster      F   \n",
       "4  787549        Hon.    Estella              L     Potter      F   \n",
       "\n",
       "                        E Mail      Father's Name     Mother's Name  \\\n",
       "0        shawna.buck@gmail.com       Rosario Buck       Keisha Buck   \n",
       "1  nathaniel.burke@walmart.com      Derrick Burke      Phoebe Burke   \n",
       "2   elisabeth.foster@gmail.com       Irwin Foster      Janie Foster   \n",
       "3   briana.lancaster@yahoo.com  Jeffrey Lancaster  Shelby Lancaster   \n",
       "4     estella.potter@gmail.com      Booker Potter    Katelyn Potter   \n",
       "\n",
       "  Mother's Maiden Name  ...          SSN    Phone No.   Place Name  \\\n",
       "0            Hendricks  ...  222-11-7603  702-771-7149   Las Vegas   \n",
       "1                 Pugh  ...  550-99-9897  231-765-6923       Irons   \n",
       "2              Delaney  ...  215-91-0004  270-749-4774   Lexington   \n",
       "3                Weiss  ...  534-71-1053  219-623-8216     Munster   \n",
       "4                 Pate  ...  644-29-6396  907-677-8486   Fairbanks   \n",
       "\n",
       "                Country       City State    Zip   Region    User Name  \\\n",
       "0                 Clark  Las Vegas    NV  89128     West       swbuck   \n",
       "1                  Lake      Irons    MI  49644  Midwest      nzburke   \n",
       "2               Fayette  Lexington    KY  40501    South     ewfoster   \n",
       "3                  Lake    Munster    IN  46321  Midwest  bclancaster   \n",
       "4  Fairbanks North Star  Fairbanks    AK  99709     West     elpotter   \n",
       "\n",
       "          Password  \n",
       "0  ja8?k3BTF^]o@<&  \n",
       "1   tPA@4Wh9Ja$+Ln  \n",
       "2  5D.B4IGNkWJfG<~  \n",
       "3        I%?JDM;pW  \n",
       "4      j4jkEXfC&Rh  \n",
       "\n",
       "[5 rows x 37 columns]"
      ]
     },
     "execution_count": 256,
     "metadata": {},
     "output_type": "execute_result"
    }
   ],
   "source": [
    "sal_data.head()"
   ]
  },
  {
   "cell_type": "code",
   "execution_count": 257,
   "metadata": {},
   "outputs": [
    {
     "data": {
      "text/plain": [
       "Index(['Emp ID', 'Name Prefix', 'First Name', 'Middle Initial', 'Last Name',\n",
       "       'Gender', 'E Mail', 'Father's Name', 'Mother's Name',\n",
       "       'Mother's Maiden Name', 'Date of Birth', 'Time of Birth', 'Age in Yrs.',\n",
       "       'Weight in Kgs.', 'Date of Joining', 'Quarter of Joining',\n",
       "       'Half of Joining', 'Year of Joining', 'Month of Joining',\n",
       "       'Month Name of Joining', 'Short Month', 'Day of Joining',\n",
       "       'DOW of Joining', 'Short DOW', 'Age in Company (Years)', 'Salary',\n",
       "       'Last % Hike', 'SSN', 'Phone No. ', 'Place Name', 'Country', 'City',\n",
       "       'State', 'Zip', 'Region', 'User Name', 'Password'],\n",
       "      dtype='object')"
      ]
     },
     "execution_count": 257,
     "metadata": {},
     "output_type": "execute_result"
    }
   ],
   "source": [
    "sal_data.columns"
   ]
  },
  {
   "cell_type": "code",
   "execution_count": 258,
   "metadata": {},
   "outputs": [
    {
     "data": {
      "text/plain": [
       "(1000, 37)"
      ]
     },
     "execution_count": 258,
     "metadata": {},
     "output_type": "execute_result"
    }
   ],
   "source": [
    "sal_data.shape"
   ]
  },
  {
   "cell_type": "code",
   "execution_count": 259,
   "metadata": {},
   "outputs": [
    {
     "name": "stdout",
     "output_type": "stream",
     "text": [
      "<class 'pandas.core.frame.DataFrame'>\n",
      "RangeIndex: 1000 entries, 0 to 999\n",
      "Data columns (total 37 columns):\n",
      " #   Column                  Non-Null Count  Dtype  \n",
      "---  ------                  --------------  -----  \n",
      " 0   Emp ID                  1000 non-null   int64  \n",
      " 1   Name Prefix             1000 non-null   object \n",
      " 2   First Name              1000 non-null   object \n",
      " 3   Middle Initial          1000 non-null   object \n",
      " 4   Last Name               1000 non-null   object \n",
      " 5   Gender                  1000 non-null   object \n",
      " 6   E Mail                  1000 non-null   object \n",
      " 7   Father's Name           1000 non-null   object \n",
      " 8   Mother's Name           1000 non-null   object \n",
      " 9   Mother's Maiden Name    1000 non-null   object \n",
      " 10  Date of Birth           1000 non-null   object \n",
      " 11  Time of Birth           1000 non-null   object \n",
      " 12  Age in Yrs.             1000 non-null   float64\n",
      " 13  Weight in Kgs.          1000 non-null   int64  \n",
      " 14  Date of Joining         1000 non-null   object \n",
      " 15  Quarter of Joining      1000 non-null   object \n",
      " 16  Half of Joining         1000 non-null   object \n",
      " 17  Year of Joining         1000 non-null   int64  \n",
      " 18  Month of Joining        1000 non-null   int64  \n",
      " 19  Month Name of Joining   1000 non-null   object \n",
      " 20  Short Month             1000 non-null   object \n",
      " 21  Day of Joining          1000 non-null   int64  \n",
      " 22  DOW of Joining          1000 non-null   object \n",
      " 23  Short DOW               1000 non-null   object \n",
      " 24  Age in Company (Years)  1000 non-null   float64\n",
      " 25  Salary                  1000 non-null   int64  \n",
      " 26  Last % Hike             1000 non-null   object \n",
      " 27  SSN                     1000 non-null   object \n",
      " 28  Phone No.               1000 non-null   object \n",
      " 29  Place Name              1000 non-null   object \n",
      " 30  Country                 1000 non-null   object \n",
      " 31  City                    1000 non-null   object \n",
      " 32  State                   1000 non-null   object \n",
      " 33  Zip                     1000 non-null   int64  \n",
      " 34  Region                  1000 non-null   object \n",
      " 35  User Name               1000 non-null   object \n",
      " 36  Password                1000 non-null   object \n",
      "dtypes: float64(2), int64(7), object(28)\n",
      "memory usage: 289.2+ KB\n"
     ]
    }
   ],
   "source": [
    "sal_data.info()"
   ]
  },
  {
   "cell_type": "markdown",
   "metadata": {},
   "source": [
    "no null values present."
   ]
  },
  {
   "cell_type": "code",
   "execution_count": 260,
   "metadata": {},
   "outputs": [],
   "source": [
    "#encoding all columns to calculate correlations\n",
    "import sklearn\n",
    "from sklearn.preprocessing import LabelEncoder\n",
    "le=LabelEncoder()\n",
    "for i in sal_data.columns:\n",
    "    if sal_data[i].dtype=='object':\n",
    "        sal_data[i]=le.fit_transform(sal_data[i])"
   ]
  },
  {
   "cell_type": "code",
   "execution_count": 261,
   "metadata": {},
   "outputs": [
    {
     "name": "stdout",
     "output_type": "stream",
     "text": [
      "['Emp ID', 'Name Prefix', 'Middle Initial', 'Last Name', \"Father's Name\", \"Mother's Name\", \"Mother's Maiden Name\", 'Date of Birth', 'Age in Yrs.', 'Date of Joining', 'Quarter of Joining', 'Half of Joining', 'Month of Joining', 'Month Name of Joining', 'Short Month', 'Day of Joining', 'Last % Hike', 'SSN', 'Phone No. ', 'Country', 'State', 'Zip', 'Region', 'Password']\n"
     ]
    }
   ],
   "source": [
    "#selecting all weakly correlated features\n",
    "weak_features=[]\n",
    "for i in sal_data.columns:\n",
    "    corr=abs(sal_data['Salary'].corr(sal_data[i]))\n",
    "    if corr<0.05:\n",
    "        weak_features.append(i)\n",
    "print(weak_features)"
   ]
  },
  {
   "cell_type": "code",
   "execution_count": 262,
   "metadata": {},
   "outputs": [],
   "source": [
    "#dropping all the weak features\n",
    "salary=sal_data.drop(weak_features,axis=1)"
   ]
  },
  {
   "cell_type": "code",
   "execution_count": 263,
   "metadata": {},
   "outputs": [
    {
     "data": {
      "text/plain": [
       "((1000, 37), (1000, 13))"
      ]
     },
     "execution_count": 263,
     "metadata": {},
     "output_type": "execute_result"
    }
   ],
   "source": [
    "sal_data.shape,salary.shape"
   ]
  },
  {
   "cell_type": "code",
   "execution_count": 264,
   "metadata": {},
   "outputs": [
    {
     "data": {
      "text/html": [
       "<div>\n",
       "<style scoped>\n",
       "    .dataframe tbody tr th:only-of-type {\n",
       "        vertical-align: middle;\n",
       "    }\n",
       "\n",
       "    .dataframe tbody tr th {\n",
       "        vertical-align: top;\n",
       "    }\n",
       "\n",
       "    .dataframe thead th {\n",
       "        text-align: right;\n",
       "    }\n",
       "</style>\n",
       "<table border=\"1\" class=\"dataframe\">\n",
       "  <thead>\n",
       "    <tr style=\"text-align: right;\">\n",
       "      <th></th>\n",
       "      <th>First Name</th>\n",
       "      <th>Gender</th>\n",
       "      <th>E Mail</th>\n",
       "      <th>Time of Birth</th>\n",
       "      <th>Weight in Kgs.</th>\n",
       "      <th>Year of Joining</th>\n",
       "      <th>DOW of Joining</th>\n",
       "      <th>Short DOW</th>\n",
       "      <th>Age in Company (Years)</th>\n",
       "      <th>Salary</th>\n",
       "      <th>Place Name</th>\n",
       "      <th>City</th>\n",
       "      <th>User Name</th>\n",
       "    </tr>\n",
       "  </thead>\n",
       "  <tbody>\n",
       "    <tr>\n",
       "      <th>0</th>\n",
       "      <td>695</td>\n",
       "      <td>0</td>\n",
       "      <td>879</td>\n",
       "      <td>462</td>\n",
       "      <td>44</td>\n",
       "      <td>2010</td>\n",
       "      <td>2</td>\n",
       "      <td>2</td>\n",
       "      <td>6.61</td>\n",
       "      <td>119090</td>\n",
       "      <td>410</td>\n",
       "      <td>410</td>\n",
       "      <td>905</td>\n",
       "    </tr>\n",
       "    <tr>\n",
       "      <th>1</th>\n",
       "      <td>575</td>\n",
       "      <td>1</td>\n",
       "      <td>730</td>\n",
       "      <td>87</td>\n",
       "      <td>52</td>\n",
       "      <td>2017</td>\n",
       "      <td>5</td>\n",
       "      <td>5</td>\n",
       "      <td>0.26</td>\n",
       "      <td>117991</td>\n",
       "      <td>362</td>\n",
       "      <td>362</td>\n",
       "      <td>752</td>\n",
       "    </tr>\n",
       "    <tr>\n",
       "      <th>2</th>\n",
       "      <td>233</td>\n",
       "      <td>0</td>\n",
       "      <td>300</td>\n",
       "      <td>222</td>\n",
       "      <td>42</td>\n",
       "      <td>2017</td>\n",
       "      <td>1</td>\n",
       "      <td>1</td>\n",
       "      <td>0.34</td>\n",
       "      <td>161045</td>\n",
       "      <td>423</td>\n",
       "      <td>423</td>\n",
       "      <td>331</td>\n",
       "    </tr>\n",
       "    <tr>\n",
       "      <th>3</th>\n",
       "      <td>96</td>\n",
       "      <td>0</td>\n",
       "      <td>118</td>\n",
       "      <td>701</td>\n",
       "      <td>43</td>\n",
       "      <td>2003</td>\n",
       "      <td>5</td>\n",
       "      <td>5</td>\n",
       "      <td>14.43</td>\n",
       "      <td>142616</td>\n",
       "      <td>521</td>\n",
       "      <td>521</td>\n",
       "      <td>67</td>\n",
       "    </tr>\n",
       "    <tr>\n",
       "      <th>4</th>\n",
       "      <td>261</td>\n",
       "      <td>0</td>\n",
       "      <td>335</td>\n",
       "      <td>679</td>\n",
       "      <td>58</td>\n",
       "      <td>2016</td>\n",
       "      <td>5</td>\n",
       "      <td>5</td>\n",
       "      <td>0.79</td>\n",
       "      <td>135706</td>\n",
       "      <td>236</td>\n",
       "      <td>236</td>\n",
       "      <td>313</td>\n",
       "    </tr>\n",
       "  </tbody>\n",
       "</table>\n",
       "</div>"
      ],
      "text/plain": [
       "   First Name  Gender  E Mail  Time of Birth  Weight in Kgs.  Year of Joining  \\\n",
       "0         695       0     879            462              44             2010   \n",
       "1         575       1     730             87              52             2017   \n",
       "2         233       0     300            222              42             2017   \n",
       "3          96       0     118            701              43             2003   \n",
       "4         261       0     335            679              58             2016   \n",
       "\n",
       "   DOW of Joining  Short DOW  Age in Company (Years)  Salary  Place Name  \\\n",
       "0               2          2                    6.61  119090         410   \n",
       "1               5          5                    0.26  117991         362   \n",
       "2               1          1                    0.34  161045         423   \n",
       "3               5          5                   14.43  142616         521   \n",
       "4               5          5                    0.79  135706         236   \n",
       "\n",
       "   City  User Name  \n",
       "0   410        905  \n",
       "1   362        752  \n",
       "2   423        331  \n",
       "3   521         67  \n",
       "4   236        313  "
      ]
     },
     "execution_count": 264,
     "metadata": {},
     "output_type": "execute_result"
    }
   ],
   "source": [
    "salary.head()"
   ]
  },
  {
   "cell_type": "code",
   "execution_count": 265,
   "metadata": {},
   "outputs": [
    {
     "data": {
      "text/plain": [
       "<matplotlib.axes._subplots.AxesSubplot at 0x22fc03e2430>"
      ]
     },
     "execution_count": 265,
     "metadata": {},
     "output_type": "execute_result"
    },
    {
     "data": {
      "image/png": "[encoded data removed]",
      "text/plain": [
       "<Figure size 864x432 with 2 Axes>"
      ]
     },
     "metadata": {
      "needs_background": "light"
     },
     "output_type": "display_data"
    }
   ],
   "source": [
    "#checking correlation of these features\n",
    "plt.figure(figsize=(12,6))\n",
    "sns.heatmap(salary.corr(),annot=True)"
   ]
  },
  {
   "cell_type": "code",
   "execution_count": 266,
   "metadata": {},
   "outputs": [
    {
     "data": {
      "text/html": [
       "<div>\n",
       "<style scoped>\n",
       "    .dataframe tbody tr th:only-of-type {\n",
       "        vertical-align: middle;\n",
       "    }\n",
       "\n",
       "    .dataframe tbody tr th {\n",
       "        vertical-align: top;\n",
       "    }\n",
       "\n",
       "    .dataframe thead th {\n",
       "        text-align: right;\n",
       "    }\n",
       "</style>\n",
       "<table border=\"1\" class=\"dataframe\">\n",
       "  <thead>\n",
       "    <tr style=\"text-align: right;\">\n",
       "      <th></th>\n",
       "      <th>Gender</th>\n",
       "      <th>Weight in Kgs.</th>\n",
       "      <th>Year of Joining</th>\n",
       "      <th>DOW of Joining</th>\n",
       "      <th>Short DOW</th>\n",
       "      <th>Age in Company (Years)</th>\n",
       "      <th>Salary</th>\n",
       "      <th>City</th>\n",
       "    </tr>\n",
       "  </thead>\n",
       "  <tbody>\n",
       "    <tr>\n",
       "      <th>0</th>\n",
       "      <td>0</td>\n",
       "      <td>44</td>\n",
       "      <td>2010</td>\n",
       "      <td>2</td>\n",
       "      <td>2</td>\n",
       "      <td>6.61</td>\n",
       "      <td>119090</td>\n",
       "      <td>410</td>\n",
       "    </tr>\n",
       "    <tr>\n",
       "      <th>1</th>\n",
       "      <td>1</td>\n",
       "      <td>52</td>\n",
       "      <td>2017</td>\n",
       "      <td>5</td>\n",
       "      <td>5</td>\n",
       "      <td>0.26</td>\n",
       "      <td>117991</td>\n",
       "      <td>362</td>\n",
       "    </tr>\n",
       "    <tr>\n",
       "      <th>2</th>\n",
       "      <td>0</td>\n",
       "      <td>42</td>\n",
       "      <td>2017</td>\n",
       "      <td>1</td>\n",
       "      <td>1</td>\n",
       "      <td>0.34</td>\n",
       "      <td>161045</td>\n",
       "      <td>423</td>\n",
       "    </tr>\n",
       "    <tr>\n",
       "      <th>3</th>\n",
       "      <td>0</td>\n",
       "      <td>43</td>\n",
       "      <td>2003</td>\n",
       "      <td>5</td>\n",
       "      <td>5</td>\n",
       "      <td>14.43</td>\n",
       "      <td>142616</td>\n",
       "      <td>521</td>\n",
       "    </tr>\n",
       "    <tr>\n",
       "      <th>4</th>\n",
       "      <td>0</td>\n",
       "      <td>58</td>\n",
       "      <td>2016</td>\n",
       "      <td>5</td>\n",
       "      <td>5</td>\n",
       "      <td>0.79</td>\n",
       "      <td>135706</td>\n",
       "      <td>236</td>\n",
       "    </tr>\n",
       "  </tbody>\n",
       "</table>\n",
       "</div>"
      ],
      "text/plain": [
       "   Gender  Weight in Kgs.  Year of Joining  DOW of Joining  Short DOW  \\\n",
       "0       0              44             2010               2          2   \n",
       "1       1              52             2017               5          5   \n",
       "2       0              42             2017               1          1   \n",
       "3       0              43             2003               5          5   \n",
       "4       0              58             2016               5          5   \n",
       "\n",
       "   Age in Company (Years)  Salary  City  \n",
       "0                    6.61  119090   410  \n",
       "1                    0.26  117991   362  \n",
       "2                    0.34  161045   423  \n",
       "3                   14.43  142616   521  \n",
       "4                    0.79  135706   236  "
      ]
     },
     "execution_count": 266,
     "metadata": {},
     "output_type": "execute_result"
    }
   ],
   "source": [
    "#dropping more useless columns \n",
    "salary.drop(['First Name','E Mail','Time of Birth','Place Name','User Name'],axis=1,inplace=True)\n",
    "salary.head()"
   ]
  },
  {
   "cell_type": "code",
   "execution_count": 267,
   "metadata": {},
   "outputs": [
    {
     "data": {
      "text/plain": [
       "<matplotlib.axes._subplots.AxesSubplot at 0x22fc17dbb20>"
      ]
     },
     "execution_count": 267,
     "metadata": {},
     "output_type": "execute_result"
    },
    {
     "data": {
      "image/png": "[encoded data removed]",
      "text/plain": [
       "<Figure size 432x288 with 1 Axes>"
      ]
     },
     "metadata": {
      "needs_background": "light"
     },
     "output_type": "display_data"
    }
   ],
   "source": [
    "#plotting the distribution of salary\n",
    "sns.distplot(salary['Salary'])"
   ]
  },
  {
   "cell_type": "code",
   "execution_count": 268,
   "metadata": {},
   "outputs": [
    {
     "data": {
      "text/plain": [
       "<matplotlib.axes._subplots.AxesSubplot at 0x22fc19bcf40>"
      ]
     },
     "execution_count": 268,
     "metadata": {},
     "output_type": "execute_result"
    },
    {
     "data": {
      "image/png": "[encoded data removed]",
      "text/plain": [
       "<Figure size 432x288 with 1 Axes>"
      ]
     },
     "metadata": {
      "needs_background": "light"
     },
     "output_type": "display_data"
    }
   ],
   "source": [
    "sns.swarmplot(x=sal_data['Gender'],y=sal_data['Salary'])"
   ]
  },
  {
   "cell_type": "markdown",
   "metadata": {},
   "source": [
    "0-female\n",
    "1-male"
   ]
  },
  {
   "cell_type": "markdown",
   "metadata": {},
   "source": [
    "salary is not gender biased."
   ]
  },
  {
   "cell_type": "code",
   "execution_count": 269,
   "metadata": {},
   "outputs": [],
   "source": [
    "salary.drop('Gender',axis=1,inplace=True)"
   ]
  },
  {
   "cell_type": "code",
   "execution_count": 270,
   "metadata": {},
   "outputs": [
    {
     "data": {
      "text/html": [
       "<div>\n",
       "<style scoped>\n",
       "    .dataframe tbody tr th:only-of-type {\n",
       "        vertical-align: middle;\n",
       "    }\n",
       "\n",
       "    .dataframe tbody tr th {\n",
       "        vertical-align: top;\n",
       "    }\n",
       "\n",
       "    .dataframe thead th {\n",
       "        text-align: right;\n",
       "    }\n",
       "</style>\n",
       "<table border=\"1\" class=\"dataframe\">\n",
       "  <thead>\n",
       "    <tr style=\"text-align: right;\">\n",
       "      <th></th>\n",
       "      <th>Weight in Kgs.</th>\n",
       "      <th>Year of Joining</th>\n",
       "      <th>DOW of Joining</th>\n",
       "      <th>Short DOW</th>\n",
       "      <th>Age in Company (Years)</th>\n",
       "      <th>Salary</th>\n",
       "      <th>City</th>\n",
       "    </tr>\n",
       "  </thead>\n",
       "  <tbody>\n",
       "    <tr>\n",
       "      <th>0</th>\n",
       "      <td>-1.109090</td>\n",
       "      <td>0.351348</td>\n",
       "      <td>-0.460811</td>\n",
       "      <td>-0.460811</td>\n",
       "      <td>-0.406759</td>\n",
       "      <td>-0.026542</td>\n",
       "      <td>-0.109756</td>\n",
       "    </tr>\n",
       "    <tr>\n",
       "      <th>1</th>\n",
       "      <td>-0.533276</td>\n",
       "      <td>1.168981</td>\n",
       "      <td>1.033711</td>\n",
       "      <td>1.033711</td>\n",
       "      <td>-1.148185</td>\n",
       "      <td>-0.050880</td>\n",
       "      <td>-0.299816</td>\n",
       "    </tr>\n",
       "    <tr>\n",
       "      <th>2</th>\n",
       "      <td>-1.253044</td>\n",
       "      <td>1.168981</td>\n",
       "      <td>-0.958985</td>\n",
       "      <td>-0.958985</td>\n",
       "      <td>-1.138844</td>\n",
       "      <td>0.902576</td>\n",
       "      <td>-0.058281</td>\n",
       "    </tr>\n",
       "    <tr>\n",
       "      <th>3</th>\n",
       "      <td>-1.181067</td>\n",
       "      <td>-0.466284</td>\n",
       "      <td>1.033711</td>\n",
       "      <td>1.033711</td>\n",
       "      <td>0.506304</td>\n",
       "      <td>0.494455</td>\n",
       "      <td>0.329758</td>\n",
       "    </tr>\n",
       "    <tr>\n",
       "      <th>4</th>\n",
       "      <td>-0.101415</td>\n",
       "      <td>1.052176</td>\n",
       "      <td>1.033711</td>\n",
       "      <td>1.033711</td>\n",
       "      <td>-1.086302</td>\n",
       "      <td>0.341429</td>\n",
       "      <td>-0.798724</td>\n",
       "    </tr>\n",
       "  </tbody>\n",
       "</table>\n",
       "</div>"
      ],
      "text/plain": [
       "   Weight in Kgs.  Year of Joining  DOW of Joining  Short DOW  \\\n",
       "0       -1.109090         0.351348       -0.460811  -0.460811   \n",
       "1       -0.533276         1.168981        1.033711   1.033711   \n",
       "2       -1.253044         1.168981       -0.958985  -0.958985   \n",
       "3       -1.181067        -0.466284        1.033711   1.033711   \n",
       "4       -0.101415         1.052176        1.033711   1.033711   \n",
       "\n",
       "   Age in Company (Years)    Salary      City  \n",
       "0               -0.406759 -0.026542 -0.109756  \n",
       "1               -1.148185 -0.050880 -0.299816  \n",
       "2               -1.138844  0.902576 -0.058281  \n",
       "3                0.506304  0.494455  0.329758  \n",
       "4               -1.086302  0.341429 -0.798724  "
      ]
     },
     "execution_count": 270,
     "metadata": {},
     "output_type": "execute_result"
    }
   ],
   "source": [
    "#standardizing all the features\n",
    "from sklearn.preprocessing import StandardScaler\n",
    "s=StandardScaler()\n",
    "salary = pd.DataFrame(s.fit_transform(salary),columns=salary.columns)\n",
    "salary.head()"
   ]
  },
  {
   "cell_type": "code",
   "execution_count": 271,
   "metadata": {},
   "outputs": [],
   "source": [
    "#seperating the target variable\n",
    "x=salary.drop('Salary',axis=1)\n",
    "y=salary['Salary']"
   ]
  },
  {
   "cell_type": "code",
   "execution_count": 272,
   "metadata": {},
   "outputs": [],
   "source": [
    "from sklearn.linear_model import LinearRegression\n",
    "from sklearn.svm import SVR\n",
    "from sklearn.ensemble import AdaBoostRegressor,GradientBoostingRegressor\n",
    "from sklearn.model_selection import train_test_split,GridSearchCV\n",
    "from sklearn.metrics import mean_absolute_error,r2_score"
   ]
  },
  {
   "cell_type": "code",
   "execution_count": 273,
   "metadata": {},
   "outputs": [],
   "source": [
    "#split the training and testing data\n",
    "x_train,x_test,y_train,y_test=train_test_split(x,y,test_size=0.2,random_state=4)"
   ]
  },
  {
   "cell_type": "code",
   "execution_count": 274,
   "metadata": {},
   "outputs": [
    {
     "name": "stdout",
     "output_type": "stream",
     "text": [
      "LinearRegression()\n",
      "mae :  0.8775500395530221\n",
      "r2 score :  -47.8982530035338\n",
      "\n",
      "\n",
      "SVR()\n",
      "mae :  0.885579200701685\n",
      "r2 score :  -8.595635864302608\n",
      "\n",
      "\n",
      "AdaBoostRegressor()\n",
      "mae :  0.8894018952867462\n",
      "r2 score :  -84.68529023292335\n",
      "\n",
      "\n",
      "GradientBoostingRegressor()\n",
      "mae :  0.8970135729001786\n",
      "r2 score :  -12.620694593346293\n",
      "\n",
      "\n"
     ]
    }
   ],
   "source": [
    "model_list=[LinearRegression(),SVR(),AdaBoostRegressor(),GradientBoostingRegressor()]\n",
    "for model in model_list:\n",
    "    model.fit(x_train,y_train)\n",
    "    pred=model.predict(x_test)\n",
    "    print(model)\n",
    "    print('mae : ',mean_absolute_error(pred,y_test))\n",
    "    print('r2 score : ',r2_score(pred,y_test))\n",
    "    print('\\n')"
   ]
  },
  {
   "cell_type": "markdown",
   "metadata": {},
   "source": [
    "SVR gives the highest R2 score,but negative. This means the model is predicting the values below mean of the target variable."
   ]
  },
  {
   "cell_type": "markdown",
   "metadata": {},
   "source": [
    "Maybe the model will work well if we convert the continuous data into categorical data and then encode and use."
   ]
  },
  {
   "cell_type": "code",
   "execution_count": 275,
   "metadata": {},
   "outputs": [
    {
     "data": {
      "text/html": [
       "<div>\n",
       "<style scoped>\n",
       "    .dataframe tbody tr th:only-of-type {\n",
       "        vertical-align: middle;\n",
       "    }\n",
       "\n",
       "    .dataframe tbody tr th {\n",
       "        vertical-align: top;\n",
       "    }\n",
       "\n",
       "    .dataframe thead th {\n",
       "        text-align: right;\n",
       "    }\n",
       "</style>\n",
       "<table border=\"1\" class=\"dataframe\">\n",
       "  <thead>\n",
       "    <tr style=\"text-align: right;\">\n",
       "      <th></th>\n",
       "      <th>Emp ID</th>\n",
       "      <th>Name Prefix</th>\n",
       "      <th>First Name</th>\n",
       "      <th>Middle Initial</th>\n",
       "      <th>Last Name</th>\n",
       "      <th>Gender</th>\n",
       "      <th>E Mail</th>\n",
       "      <th>Father's Name</th>\n",
       "      <th>Mother's Name</th>\n",
       "      <th>Mother's Maiden Name</th>\n",
       "      <th>...</th>\n",
       "      <th>SSN</th>\n",
       "      <th>Phone No.</th>\n",
       "      <th>Place Name</th>\n",
       "      <th>Country</th>\n",
       "      <th>City</th>\n",
       "      <th>State</th>\n",
       "      <th>Zip</th>\n",
       "      <th>Region</th>\n",
       "      <th>User Name</th>\n",
       "      <th>Password</th>\n",
       "    </tr>\n",
       "  </thead>\n",
       "  <tbody>\n",
       "    <tr>\n",
       "      <th>0</th>\n",
       "      <td>850297</td>\n",
       "      <td>5</td>\n",
       "      <td>695</td>\n",
       "      <td>22</td>\n",
       "      <td>72</td>\n",
       "      <td>0</td>\n",
       "      <td>879</td>\n",
       "      <td>810</td>\n",
       "      <td>510</td>\n",
       "      <td>262</td>\n",
       "      <td>...</td>\n",
       "      <td>301</td>\n",
       "      <td>970</td>\n",
       "      <td>410</td>\n",
       "      <td>106</td>\n",
       "      <td>410</td>\n",
       "      <td>32</td>\n",
       "      <td>89128</td>\n",
       "      <td>3</td>\n",
       "      <td>905</td>\n",
       "      <td>730</td>\n",
       "    </tr>\n",
       "    <tr>\n",
       "      <th>1</th>\n",
       "      <td>304721</td>\n",
       "      <td>3</td>\n",
       "      <td>575</td>\n",
       "      <td>25</td>\n",
       "      <td>75</td>\n",
       "      <td>1</td>\n",
       "      <td>730</td>\n",
       "      <td>249</td>\n",
       "      <td>786</td>\n",
       "      <td>476</td>\n",
       "      <td>...</td>\n",
       "      <td>734</td>\n",
       "      <td>500</td>\n",
       "      <td>362</td>\n",
       "      <td>276</td>\n",
       "      <td>362</td>\n",
       "      <td>21</td>\n",
       "      <td>49644</td>\n",
       "      <td>0</td>\n",
       "      <td>752</td>\n",
       "      <td>895</td>\n",
       "    </tr>\n",
       "    <tr>\n",
       "      <th>2</th>\n",
       "      <td>412317</td>\n",
       "      <td>1</td>\n",
       "      <td>233</td>\n",
       "      <td>22</td>\n",
       "      <td>191</td>\n",
       "      <td>0</td>\n",
       "      <td>300</td>\n",
       "      <td>450</td>\n",
       "      <td>419</td>\n",
       "      <td>153</td>\n",
       "      <td>...</td>\n",
       "      <td>289</td>\n",
       "      <td>674</td>\n",
       "      <td>423</td>\n",
       "      <td>184</td>\n",
       "      <td>423</td>\n",
       "      <td>16</td>\n",
       "      <td>40501</td>\n",
       "      <td>2</td>\n",
       "      <td>331</td>\n",
       "      <td>78</td>\n",
       "    </tr>\n",
       "    <tr>\n",
       "      <th>3</th>\n",
       "      <td>621375</td>\n",
       "      <td>4</td>\n",
       "      <td>96</td>\n",
       "      <td>2</td>\n",
       "      <td>326</td>\n",
       "      <td>0</td>\n",
       "      <td>118</td>\n",
       "      <td>497</td>\n",
       "      <td>882</td>\n",
       "      <td>608</td>\n",
       "      <td>...</td>\n",
       "      <td>714</td>\n",
       "      <td>420</td>\n",
       "      <td>521</td>\n",
       "      <td>276</td>\n",
       "      <td>521</td>\n",
       "      <td>14</td>\n",
       "      <td>46321</td>\n",
       "      <td>0</td>\n",
       "      <td>67</td>\n",
       "      <td>280</td>\n",
       "    </tr>\n",
       "    <tr>\n",
       "      <th>4</th>\n",
       "      <td>787549</td>\n",
       "      <td>2</td>\n",
       "      <td>261</td>\n",
       "      <td>11</td>\n",
       "      <td>471</td>\n",
       "      <td>0</td>\n",
       "      <td>335</td>\n",
       "      <td>95</td>\n",
       "      <td>495</td>\n",
       "      <td>450</td>\n",
       "      <td>...</td>\n",
       "      <td>845</td>\n",
       "      <td>992</td>\n",
       "      <td>236</td>\n",
       "      <td>177</td>\n",
       "      <td>236</td>\n",
       "      <td>0</td>\n",
       "      <td>99709</td>\n",
       "      <td>3</td>\n",
       "      <td>313</td>\n",
       "      <td>713</td>\n",
       "    </tr>\n",
       "  </tbody>\n",
       "</table>\n",
       "<p>5 rows × 37 columns</p>\n",
       "</div>"
      ],
      "text/plain": [
       "   Emp ID  Name Prefix  First Name  Middle Initial  Last Name  Gender  E Mail  \\\n",
       "0  850297            5         695              22         72       0     879   \n",
       "1  304721            3         575              25         75       1     730   \n",
       "2  412317            1         233              22        191       0     300   \n",
       "3  621375            4          96               2        326       0     118   \n",
       "4  787549            2         261              11        471       0     335   \n",
       "\n",
       "   Father's Name  Mother's Name  Mother's Maiden Name  ...  SSN  Phone No.   \\\n",
       "0            810            510                   262  ...  301         970   \n",
       "1            249            786                   476  ...  734         500   \n",
       "2            450            419                   153  ...  289         674   \n",
       "3            497            882                   608  ...  714         420   \n",
       "4             95            495                   450  ...  845         992   \n",
       "\n",
       "   Place Name  Country  City  State    Zip  Region  User Name  Password  \n",
       "0         410      106   410     32  89128       3        905       730  \n",
       "1         362      276   362     21  49644       0        752       895  \n",
       "2         423      184   423     16  40501       2        331        78  \n",
       "3         521      276   521     14  46321       0         67       280  \n",
       "4         236      177   236      0  99709       3        313       713  \n",
       "\n",
       "[5 rows x 37 columns]"
      ]
     },
     "execution_count": 275,
     "metadata": {},
     "output_type": "execute_result"
    }
   ],
   "source": [
    "#using the sal_data\n",
    "sal_data.head()"
   ]
  },
  {
   "cell_type": "code",
   "execution_count": 276,
   "metadata": {},
   "outputs": [
    {
     "data": {
      "text/html": [
       "<div>\n",
       "<style scoped>\n",
       "    .dataframe tbody tr th:only-of-type {\n",
       "        vertical-align: middle;\n",
       "    }\n",
       "\n",
       "    .dataframe tbody tr th {\n",
       "        vertical-align: top;\n",
       "    }\n",
       "\n",
       "    .dataframe thead th {\n",
       "        text-align: right;\n",
       "    }\n",
       "</style>\n",
       "<table border=\"1\" class=\"dataframe\">\n",
       "  <thead>\n",
       "    <tr style=\"text-align: right;\">\n",
       "      <th></th>\n",
       "      <th>First Name</th>\n",
       "      <th>Gender</th>\n",
       "      <th>E Mail</th>\n",
       "      <th>Time of Birth</th>\n",
       "      <th>Weight in Kgs.</th>\n",
       "      <th>Year of Joining</th>\n",
       "      <th>DOW of Joining</th>\n",
       "      <th>Short DOW</th>\n",
       "      <th>Age in Company (Years)</th>\n",
       "      <th>Salary</th>\n",
       "      <th>Place Name</th>\n",
       "      <th>City</th>\n",
       "      <th>User Name</th>\n",
       "    </tr>\n",
       "  </thead>\n",
       "  <tbody>\n",
       "    <tr>\n",
       "      <th>0</th>\n",
       "      <td>695</td>\n",
       "      <td>0</td>\n",
       "      <td>879</td>\n",
       "      <td>462</td>\n",
       "      <td>44</td>\n",
       "      <td>2010</td>\n",
       "      <td>2</td>\n",
       "      <td>2</td>\n",
       "      <td>6.61</td>\n",
       "      <td>119090</td>\n",
       "      <td>410</td>\n",
       "      <td>410</td>\n",
       "      <td>905</td>\n",
       "    </tr>\n",
       "    <tr>\n",
       "      <th>1</th>\n",
       "      <td>575</td>\n",
       "      <td>1</td>\n",
       "      <td>730</td>\n",
       "      <td>87</td>\n",
       "      <td>52</td>\n",
       "      <td>2017</td>\n",
       "      <td>5</td>\n",
       "      <td>5</td>\n",
       "      <td>0.26</td>\n",
       "      <td>117991</td>\n",
       "      <td>362</td>\n",
       "      <td>362</td>\n",
       "      <td>752</td>\n",
       "    </tr>\n",
       "    <tr>\n",
       "      <th>2</th>\n",
       "      <td>233</td>\n",
       "      <td>0</td>\n",
       "      <td>300</td>\n",
       "      <td>222</td>\n",
       "      <td>42</td>\n",
       "      <td>2017</td>\n",
       "      <td>1</td>\n",
       "      <td>1</td>\n",
       "      <td>0.34</td>\n",
       "      <td>161045</td>\n",
       "      <td>423</td>\n",
       "      <td>423</td>\n",
       "      <td>331</td>\n",
       "    </tr>\n",
       "    <tr>\n",
       "      <th>3</th>\n",
       "      <td>96</td>\n",
       "      <td>0</td>\n",
       "      <td>118</td>\n",
       "      <td>701</td>\n",
       "      <td>43</td>\n",
       "      <td>2003</td>\n",
       "      <td>5</td>\n",
       "      <td>5</td>\n",
       "      <td>14.43</td>\n",
       "      <td>142616</td>\n",
       "      <td>521</td>\n",
       "      <td>521</td>\n",
       "      <td>67</td>\n",
       "    </tr>\n",
       "    <tr>\n",
       "      <th>4</th>\n",
       "      <td>261</td>\n",
       "      <td>0</td>\n",
       "      <td>335</td>\n",
       "      <td>679</td>\n",
       "      <td>58</td>\n",
       "      <td>2016</td>\n",
       "      <td>5</td>\n",
       "      <td>5</td>\n",
       "      <td>0.79</td>\n",
       "      <td>135706</td>\n",
       "      <td>236</td>\n",
       "      <td>236</td>\n",
       "      <td>313</td>\n",
       "    </tr>\n",
       "  </tbody>\n",
       "</table>\n",
       "</div>"
      ],
      "text/plain": [
       "   First Name  Gender  E Mail  Time of Birth  Weight in Kgs.  Year of Joining  \\\n",
       "0         695       0     879            462              44             2010   \n",
       "1         575       1     730             87              52             2017   \n",
       "2         233       0     300            222              42             2017   \n",
       "3          96       0     118            701              43             2003   \n",
       "4         261       0     335            679              58             2016   \n",
       "\n",
       "   DOW of Joining  Short DOW  Age in Company (Years)  Salary  Place Name  \\\n",
       "0               2          2                    6.61  119090         410   \n",
       "1               5          5                    0.26  117991         362   \n",
       "2               1          1                    0.34  161045         423   \n",
       "3               5          5                   14.43  142616         521   \n",
       "4               5          5                    0.79  135706         236   \n",
       "\n",
       "   City  User Name  \n",
       "0   410        905  \n",
       "1   362        752  \n",
       "2   423        331  \n",
       "3   521         67  \n",
       "4   236        313  "
      ]
     },
     "execution_count": 276,
     "metadata": {},
     "output_type": "execute_result"
    }
   ],
   "source": [
    "#dropping weak features\n",
    "sal_data.drop(weak_features,axis=1,inplace=True)\n",
    "sal_data.head()"
   ]
  },
  {
   "cell_type": "code",
   "execution_count": 277,
   "metadata": {},
   "outputs": [],
   "source": [
    "#converting 'Weight in kgs.' into categorical data\n",
    "sal_data['Weight in Kgs.']=pd.cut(sal_data['Weight in Kgs.'],bins=[40,70,90],labels=['fit','obese'])"
   ]
  },
  {
   "cell_type": "code",
   "execution_count": 278,
   "metadata": {},
   "outputs": [],
   "source": [
    "#converting 'Age in company' into categorical data\n",
    "sal_data['Age in Company (Years)']=pd.cut(sal_data['Age in Company (Years)'],bins=[0,5,15,40],labels=['jr.','sr.','super sr.'])"
   ]
  },
  {
   "cell_type": "code",
   "execution_count": 279,
   "metadata": {},
   "outputs": [],
   "source": [
    "#converting 'Salary' into categorical data\n",
    "sal_data['Salary']=pd.cut(sal_data['Salary'],bins=[40000,100000,200000],labels=['good salary','awesome salary'])"
   ]
  },
  {
   "cell_type": "code",
   "execution_count": 280,
   "metadata": {},
   "outputs": [
    {
     "data": {
      "text/html": [
       "<div>\n",
       "<style scoped>\n",
       "    .dataframe tbody tr th:only-of-type {\n",
       "        vertical-align: middle;\n",
       "    }\n",
       "\n",
       "    .dataframe tbody tr th {\n",
       "        vertical-align: top;\n",
       "    }\n",
       "\n",
       "    .dataframe thead th {\n",
       "        text-align: right;\n",
       "    }\n",
       "</style>\n",
       "<table border=\"1\" class=\"dataframe\">\n",
       "  <thead>\n",
       "    <tr style=\"text-align: right;\">\n",
       "      <th></th>\n",
       "      <th>First Name</th>\n",
       "      <th>Gender</th>\n",
       "      <th>E Mail</th>\n",
       "      <th>Time of Birth</th>\n",
       "      <th>Weight in Kgs.</th>\n",
       "      <th>Year of Joining</th>\n",
       "      <th>DOW of Joining</th>\n",
       "      <th>Short DOW</th>\n",
       "      <th>Age in Company (Years)</th>\n",
       "      <th>Salary</th>\n",
       "      <th>Place Name</th>\n",
       "      <th>City</th>\n",
       "      <th>User Name</th>\n",
       "    </tr>\n",
       "  </thead>\n",
       "  <tbody>\n",
       "    <tr>\n",
       "      <th>0</th>\n",
       "      <td>695</td>\n",
       "      <td>0</td>\n",
       "      <td>879</td>\n",
       "      <td>462</td>\n",
       "      <td>fit</td>\n",
       "      <td>2010</td>\n",
       "      <td>2</td>\n",
       "      <td>2</td>\n",
       "      <td>sr.</td>\n",
       "      <td>awesome salary</td>\n",
       "      <td>410</td>\n",
       "      <td>410</td>\n",
       "      <td>905</td>\n",
       "    </tr>\n",
       "    <tr>\n",
       "      <th>1</th>\n",
       "      <td>575</td>\n",
       "      <td>1</td>\n",
       "      <td>730</td>\n",
       "      <td>87</td>\n",
       "      <td>fit</td>\n",
       "      <td>2017</td>\n",
       "      <td>5</td>\n",
       "      <td>5</td>\n",
       "      <td>jr.</td>\n",
       "      <td>awesome salary</td>\n",
       "      <td>362</td>\n",
       "      <td>362</td>\n",
       "      <td>752</td>\n",
       "    </tr>\n",
       "    <tr>\n",
       "      <th>2</th>\n",
       "      <td>233</td>\n",
       "      <td>0</td>\n",
       "      <td>300</td>\n",
       "      <td>222</td>\n",
       "      <td>fit</td>\n",
       "      <td>2017</td>\n",
       "      <td>1</td>\n",
       "      <td>1</td>\n",
       "      <td>jr.</td>\n",
       "      <td>awesome salary</td>\n",
       "      <td>423</td>\n",
       "      <td>423</td>\n",
       "      <td>331</td>\n",
       "    </tr>\n",
       "    <tr>\n",
       "      <th>3</th>\n",
       "      <td>96</td>\n",
       "      <td>0</td>\n",
       "      <td>118</td>\n",
       "      <td>701</td>\n",
       "      <td>fit</td>\n",
       "      <td>2003</td>\n",
       "      <td>5</td>\n",
       "      <td>5</td>\n",
       "      <td>sr.</td>\n",
       "      <td>awesome salary</td>\n",
       "      <td>521</td>\n",
       "      <td>521</td>\n",
       "      <td>67</td>\n",
       "    </tr>\n",
       "    <tr>\n",
       "      <th>4</th>\n",
       "      <td>261</td>\n",
       "      <td>0</td>\n",
       "      <td>335</td>\n",
       "      <td>679</td>\n",
       "      <td>fit</td>\n",
       "      <td>2016</td>\n",
       "      <td>5</td>\n",
       "      <td>5</td>\n",
       "      <td>jr.</td>\n",
       "      <td>awesome salary</td>\n",
       "      <td>236</td>\n",
       "      <td>236</td>\n",
       "      <td>313</td>\n",
       "    </tr>\n",
       "  </tbody>\n",
       "</table>\n",
       "</div>"
      ],
      "text/plain": [
       "   First Name  Gender  E Mail  Time of Birth Weight in Kgs.  Year of Joining  \\\n",
       "0         695       0     879            462            fit             2010   \n",
       "1         575       1     730             87            fit             2017   \n",
       "2         233       0     300            222            fit             2017   \n",
       "3          96       0     118            701            fit             2003   \n",
       "4         261       0     335            679            fit             2016   \n",
       "\n",
       "   DOW of Joining  Short DOW Age in Company (Years)          Salary  \\\n",
       "0               2          2                    sr.  awesome salary   \n",
       "1               5          5                    jr.  awesome salary   \n",
       "2               1          1                    jr.  awesome salary   \n",
       "3               5          5                    sr.  awesome salary   \n",
       "4               5          5                    jr.  awesome salary   \n",
       "\n",
       "   Place Name  City  User Name  \n",
       "0         410   410        905  \n",
       "1         362   362        752  \n",
       "2         423   423        331  \n",
       "3         521   521         67  \n",
       "4         236   236        313  "
      ]
     },
     "execution_count": 280,
     "metadata": {},
     "output_type": "execute_result"
    }
   ],
   "source": [
    "#reviewing the data\n",
    "sal_data.head()"
   ]
  },
  {
   "cell_type": "code",
   "execution_count": 281,
   "metadata": {},
   "outputs": [],
   "source": [
    "sal_data['Salary']=sal_data['Salary'].cat.codes"
   ]
  },
  {
   "cell_type": "code",
   "execution_count": 282,
   "metadata": {},
   "outputs": [],
   "source": [
    "sal_data['Weight in Kgs.']=sal_data['Weight in Kgs.'].cat.codes"
   ]
  },
  {
   "cell_type": "code",
   "execution_count": 283,
   "metadata": {},
   "outputs": [],
   "source": [
    "sal_data['Age in Company (Years)']=sal_data['Age in Company (Years)'].cat.codes"
   ]
  },
  {
   "cell_type": "code",
   "execution_count": 284,
   "metadata": {},
   "outputs": [
    {
     "data": {
      "text/html": [
       "<div>\n",
       "<style scoped>\n",
       "    .dataframe tbody tr th:only-of-type {\n",
       "        vertical-align: middle;\n",
       "    }\n",
       "\n",
       "    .dataframe tbody tr th {\n",
       "        vertical-align: top;\n",
       "    }\n",
       "\n",
       "    .dataframe thead th {\n",
       "        text-align: right;\n",
       "    }\n",
       "</style>\n",
       "<table border=\"1\" class=\"dataframe\">\n",
       "  <thead>\n",
       "    <tr style=\"text-align: right;\">\n",
       "      <th></th>\n",
       "      <th>First Name</th>\n",
       "      <th>Gender</th>\n",
       "      <th>E Mail</th>\n",
       "      <th>Time of Birth</th>\n",
       "      <th>Weight in Kgs.</th>\n",
       "      <th>Year of Joining</th>\n",
       "      <th>DOW of Joining</th>\n",
       "      <th>Short DOW</th>\n",
       "      <th>Age in Company (Years)</th>\n",
       "      <th>Salary</th>\n",
       "      <th>Place Name</th>\n",
       "      <th>City</th>\n",
       "      <th>User Name</th>\n",
       "    </tr>\n",
       "  </thead>\n",
       "  <tbody>\n",
       "    <tr>\n",
       "      <th>0</th>\n",
       "      <td>695</td>\n",
       "      <td>0</td>\n",
       "      <td>879</td>\n",
       "      <td>462</td>\n",
       "      <td>0</td>\n",
       "      <td>2010</td>\n",
       "      <td>2</td>\n",
       "      <td>2</td>\n",
       "      <td>1</td>\n",
       "      <td>1</td>\n",
       "      <td>410</td>\n",
       "      <td>410</td>\n",
       "      <td>905</td>\n",
       "    </tr>\n",
       "    <tr>\n",
       "      <th>1</th>\n",
       "      <td>575</td>\n",
       "      <td>1</td>\n",
       "      <td>730</td>\n",
       "      <td>87</td>\n",
       "      <td>0</td>\n",
       "      <td>2017</td>\n",
       "      <td>5</td>\n",
       "      <td>5</td>\n",
       "      <td>0</td>\n",
       "      <td>1</td>\n",
       "      <td>362</td>\n",
       "      <td>362</td>\n",
       "      <td>752</td>\n",
       "    </tr>\n",
       "    <tr>\n",
       "      <th>2</th>\n",
       "      <td>233</td>\n",
       "      <td>0</td>\n",
       "      <td>300</td>\n",
       "      <td>222</td>\n",
       "      <td>0</td>\n",
       "      <td>2017</td>\n",
       "      <td>1</td>\n",
       "      <td>1</td>\n",
       "      <td>0</td>\n",
       "      <td>1</td>\n",
       "      <td>423</td>\n",
       "      <td>423</td>\n",
       "      <td>331</td>\n",
       "    </tr>\n",
       "    <tr>\n",
       "      <th>3</th>\n",
       "      <td>96</td>\n",
       "      <td>0</td>\n",
       "      <td>118</td>\n",
       "      <td>701</td>\n",
       "      <td>0</td>\n",
       "      <td>2003</td>\n",
       "      <td>5</td>\n",
       "      <td>5</td>\n",
       "      <td>1</td>\n",
       "      <td>1</td>\n",
       "      <td>521</td>\n",
       "      <td>521</td>\n",
       "      <td>67</td>\n",
       "    </tr>\n",
       "    <tr>\n",
       "      <th>4</th>\n",
       "      <td>261</td>\n",
       "      <td>0</td>\n",
       "      <td>335</td>\n",
       "      <td>679</td>\n",
       "      <td>0</td>\n",
       "      <td>2016</td>\n",
       "      <td>5</td>\n",
       "      <td>5</td>\n",
       "      <td>0</td>\n",
       "      <td>1</td>\n",
       "      <td>236</td>\n",
       "      <td>236</td>\n",
       "      <td>313</td>\n",
       "    </tr>\n",
       "  </tbody>\n",
       "</table>\n",
       "</div>"
      ],
      "text/plain": [
       "   First Name  Gender  E Mail  Time of Birth  Weight in Kgs.  Year of Joining  \\\n",
       "0         695       0     879            462               0             2010   \n",
       "1         575       1     730             87               0             2017   \n",
       "2         233       0     300            222               0             2017   \n",
       "3          96       0     118            701               0             2003   \n",
       "4         261       0     335            679               0             2016   \n",
       "\n",
       "   DOW of Joining  Short DOW  Age in Company (Years)  Salary  Place Name  \\\n",
       "0               2          2                       1       1         410   \n",
       "1               5          5                       0       1         362   \n",
       "2               1          1                       0       1         423   \n",
       "3               5          5                       1       1         521   \n",
       "4               5          5                       0       1         236   \n",
       "\n",
       "   City  User Name  \n",
       "0   410        905  \n",
       "1   362        752  \n",
       "2   423        331  \n",
       "3   521         67  \n",
       "4   236        313  "
      ]
     },
     "execution_count": 284,
     "metadata": {},
     "output_type": "execute_result"
    }
   ],
   "source": [
    "#reviewing the data\n",
    "sal_data.head()"
   ]
  },
  {
   "cell_type": "code",
   "execution_count": 285,
   "metadata": {},
   "outputs": [],
   "source": [
    "#drop Place name, its extra\n",
    "sal_data.drop('Place Name',axis=1,inplace=True)"
   ]
  },
  {
   "cell_type": "code",
   "execution_count": 286,
   "metadata": {},
   "outputs": [],
   "source": [
    "#seperating the target variable\n",
    "x_new=sal_data.drop('Salary',axis=1)\n",
    "y_new=sal_data['Salary']"
   ]
  },
  {
   "cell_type": "code",
   "execution_count": 287,
   "metadata": {},
   "outputs": [
    {
     "data": {
      "text/html": [
       "<div>\n",
       "<style scoped>\n",
       "    .dataframe tbody tr th:only-of-type {\n",
       "        vertical-align: middle;\n",
       "    }\n",
       "\n",
       "    .dataframe tbody tr th {\n",
       "        vertical-align: top;\n",
       "    }\n",
       "\n",
       "    .dataframe thead th {\n",
       "        text-align: right;\n",
       "    }\n",
       "</style>\n",
       "<table border=\"1\" class=\"dataframe\">\n",
       "  <thead>\n",
       "    <tr style=\"text-align: right;\">\n",
       "      <th></th>\n",
       "      <th>First Name</th>\n",
       "      <th>Gender</th>\n",
       "      <th>E Mail</th>\n",
       "      <th>Time of Birth</th>\n",
       "      <th>Weight in Kgs.</th>\n",
       "      <th>Year of Joining</th>\n",
       "      <th>DOW of Joining</th>\n",
       "      <th>Short DOW</th>\n",
       "      <th>Age in Company (Years)</th>\n",
       "      <th>City</th>\n",
       "      <th>User Name</th>\n",
       "    </tr>\n",
       "  </thead>\n",
       "  <tbody>\n",
       "    <tr>\n",
       "      <th>0</th>\n",
       "      <td>695</td>\n",
       "      <td>0</td>\n",
       "      <td>879</td>\n",
       "      <td>462</td>\n",
       "      <td>0</td>\n",
       "      <td>2010</td>\n",
       "      <td>2</td>\n",
       "      <td>2</td>\n",
       "      <td>1</td>\n",
       "      <td>410</td>\n",
       "      <td>905</td>\n",
       "    </tr>\n",
       "    <tr>\n",
       "      <th>1</th>\n",
       "      <td>575</td>\n",
       "      <td>1</td>\n",
       "      <td>730</td>\n",
       "      <td>87</td>\n",
       "      <td>0</td>\n",
       "      <td>2017</td>\n",
       "      <td>5</td>\n",
       "      <td>5</td>\n",
       "      <td>0</td>\n",
       "      <td>362</td>\n",
       "      <td>752</td>\n",
       "    </tr>\n",
       "    <tr>\n",
       "      <th>2</th>\n",
       "      <td>233</td>\n",
       "      <td>0</td>\n",
       "      <td>300</td>\n",
       "      <td>222</td>\n",
       "      <td>0</td>\n",
       "      <td>2017</td>\n",
       "      <td>1</td>\n",
       "      <td>1</td>\n",
       "      <td>0</td>\n",
       "      <td>423</td>\n",
       "      <td>331</td>\n",
       "    </tr>\n",
       "    <tr>\n",
       "      <th>3</th>\n",
       "      <td>96</td>\n",
       "      <td>0</td>\n",
       "      <td>118</td>\n",
       "      <td>701</td>\n",
       "      <td>0</td>\n",
       "      <td>2003</td>\n",
       "      <td>5</td>\n",
       "      <td>5</td>\n",
       "      <td>1</td>\n",
       "      <td>521</td>\n",
       "      <td>67</td>\n",
       "    </tr>\n",
       "    <tr>\n",
       "      <th>4</th>\n",
       "      <td>261</td>\n",
       "      <td>0</td>\n",
       "      <td>335</td>\n",
       "      <td>679</td>\n",
       "      <td>0</td>\n",
       "      <td>2016</td>\n",
       "      <td>5</td>\n",
       "      <td>5</td>\n",
       "      <td>0</td>\n",
       "      <td>236</td>\n",
       "      <td>313</td>\n",
       "    </tr>\n",
       "  </tbody>\n",
       "</table>\n",
       "</div>"
      ],
      "text/plain": [
       "   First Name  Gender  E Mail  Time of Birth  Weight in Kgs.  Year of Joining  \\\n",
       "0         695       0     879            462               0             2010   \n",
       "1         575       1     730             87               0             2017   \n",
       "2         233       0     300            222               0             2017   \n",
       "3          96       0     118            701               0             2003   \n",
       "4         261       0     335            679               0             2016   \n",
       "\n",
       "   DOW of Joining  Short DOW  Age in Company (Years)  City  User Name  \n",
       "0               2          2                       1   410        905  \n",
       "1               5          5                       0   362        752  \n",
       "2               1          1                       0   423        331  \n",
       "3               5          5                       1   521         67  \n",
       "4               5          5                       0   236        313  "
      ]
     },
     "execution_count": 287,
     "metadata": {},
     "output_type": "execute_result"
    }
   ],
   "source": [
    "x_new.head()"
   ]
  },
  {
   "cell_type": "code",
   "execution_count": 288,
   "metadata": {},
   "outputs": [],
   "source": [
    "from sklearn.neighbors import KNeighborsClassifier\n",
    "from sklearn.naive_bayes import GaussianNB\n",
    "from sklearn.svm import SVC\n",
    "from sklearn.tree import DecisionTreeClassifier\n",
    "from sklearn.ensemble import RandomForestClassifier,AdaBoostClassifier,GradientBoostingClassifier\n",
    "from sklearn.metrics import accuracy_score,classification_report,confusion_matrix\n",
    "from sklearn.model_selection import KFold,cross_val_score,GridSearchCV"
   ]
  },
  {
   "cell_type": "code",
   "execution_count": 289,
   "metadata": {},
   "outputs": [],
   "source": [
    "#split the training and testing data\n",
    "x_new_train,x_new_test,y_new_train,y_new_test=train_test_split(x_new,y_new,test_size=0.2,random_state=4)"
   ]
  },
  {
   "cell_type": "code",
   "execution_count": 290,
   "metadata": {},
   "outputs": [
    {
     "name": "stdout",
     "output_type": "stream",
     "text": [
      "KNeighborsClassifier()\n",
      "0.54875\n",
      "\n",
      "\n",
      "GaussianNB()\n",
      "0.6050000000000001\n",
      "\n",
      "\n",
      "SVC()\n",
      "0.6325000000000001\n",
      "\n",
      "\n",
      "DecisionTreeClassifier()\n",
      "0.5425\n",
      "\n",
      "\n",
      "RandomForestClassifier()\n",
      "0.59\n",
      "\n",
      "\n",
      "AdaBoostClassifier()\n",
      "0.615\n",
      "\n",
      "\n",
      "GradientBoostingClassifier()\n",
      "0.5925\n",
      "\n",
      "\n"
     ]
    }
   ],
   "source": [
    "#choosing the best algorithm\n",
    "#train and predict the data using cross-validation\n",
    "model_list=[KNeighborsClassifier(),GaussianNB(),SVC(),DecisionTreeClassifier(),RandomForestClassifier(),\n",
    "      AdaBoostClassifier(),GradientBoostingClassifier()]\n",
    "for model in model_list:\n",
    "    kfold=KFold(n_splits=10,random_state=None)\n",
    "    results=cross_val_score(model,x_new_train,y_new_train,cv=kfold,scoring='accuracy')\n",
    "    print(model)\n",
    "    print(results.mean())\n",
    "    print('\\n')"
   ]
  },
  {
   "cell_type": "markdown",
   "metadata": {},
   "source": [
    "finally we got a best working model : SVC"
   ]
  },
  {
   "cell_type": "code",
   "execution_count": 291,
   "metadata": {},
   "outputs": [
    {
     "data": {
      "text/plain": [
       "SVC()"
      ]
     },
     "execution_count": 291,
     "metadata": {},
     "output_type": "execute_result"
    }
   ],
   "source": [
    "#testing performance on untrained data\n",
    "svc=SVC()\n",
    "svc.fit(x_new_train,y_new_train)"
   ]
  },
  {
   "cell_type": "code",
   "execution_count": 292,
   "metadata": {},
   "outputs": [],
   "source": [
    "pred=svc.predict(x_new_test)"
   ]
  },
  {
   "cell_type": "code",
   "execution_count": 293,
   "metadata": {},
   "outputs": [
    {
     "name": "stdout",
     "output_type": "stream",
     "text": [
      "0.57\n"
     ]
    }
   ],
   "source": [
    "print(accuracy_score(pred,y_new_test))"
   ]
  },
  {
   "cell_type": "code",
   "execution_count": 294,
   "metadata": {},
   "outputs": [
    {
     "name": "stdout",
     "output_type": "stream",
     "text": [
      "[[  0   0]\n",
      " [ 86 114]]\n"
     ]
    }
   ],
   "source": [
    "print(confusion_matrix(pred,y_new_test))"
   ]
  },
  {
   "cell_type": "code",
   "execution_count": 295,
   "metadata": {},
   "outputs": [
    {
     "name": "stdout",
     "output_type": "stream",
     "text": [
      "              precision    recall  f1-score   support\n",
      "\n",
      "           0       0.00      0.00      0.00         0\n",
      "           1       1.00      0.57      0.73       200\n",
      "\n",
      "    accuracy                           0.57       200\n",
      "   macro avg       0.50      0.28      0.36       200\n",
      "weighted avg       1.00      0.57      0.73       200\n",
      "\n"
     ]
    }
   ],
   "source": [
    "print(classification_report(pred,y_new_test))"
   ]
  },
  {
   "cell_type": "code",
   "execution_count": 296,
   "metadata": {},
   "outputs": [
    {
     "data": {
      "text/plain": [
       "SVC()"
      ]
     },
     "execution_count": 296,
     "metadata": {},
     "output_type": "execute_result"
    }
   ],
   "source": [
    "#final training\n",
    "svc.fit(x_new,y_new)"
   ]
  },
  {
   "cell_type": "code",
   "execution_count": 297,
   "metadata": {},
   "outputs": [
    {
     "data": {
      "text/plain": [
       "['project_4_salary.pkl']"
      ]
     },
     "execution_count": 297,
     "metadata": {},
     "output_type": "execute_result"
    }
   ],
   "source": [
    "#saving the model using joblib\n",
    "import joblib \n",
    "joblib.dump(svc,'project_4_salary.pkl')"
   ]
  },
  {
   "cell_type": "code",
   "execution_count": null,
   "metadata": {},
   "outputs": [],
   "source": []
  }
 ],
 "metadata": {
  "kernelspec": {
   "display_name": "Python 3",
   "language": "python",
   "name": "python3"
  },
  "language_info": {
   "codemirror_mode": {
    "name": "ipython",
    "version": 3
   },
   "file_extension": ".py",
   "mimetype": "text/x-python",
   "name": "python",
   "nbconvert_exporter": "python",
   "pygments_lexer": "ipython3",
   "version": "3.8.3"
  }
 },
 "nbformat": 4,
 "nbformat_minor": 4
}
